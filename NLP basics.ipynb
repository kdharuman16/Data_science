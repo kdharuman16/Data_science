{
 "cells": [
  {
   "cell_type": "code",
   "execution_count": 1,
   "id": "b659f121",
   "metadata": {},
   "outputs": [
    {
     "name": "stdout",
     "output_type": "stream",
     "text": [
      "Requirement already satisfied: nltk in c:\\users\\home\\anaconda3\\lib\\site-packages (3.7)\n",
      "Requirement already satisfied: click in c:\\users\\home\\anaconda3\\lib\\site-packages (from nltk) (8.0.4)\n",
      "Requirement already satisfied: joblib in c:\\users\\home\\anaconda3\\lib\\site-packages (from nltk) (1.2.0)\n",
      "Requirement already satisfied: regex>=2021.8.3 in c:\\users\\home\\anaconda3\\lib\\site-packages (from nltk) (2022.3.15)\n",
      "Requirement already satisfied: tqdm in c:\\users\\home\\anaconda3\\lib\\site-packages (from nltk) (4.64.0)\n",
      "Requirement already satisfied: colorama in c:\\users\\home\\anaconda3\\lib\\site-packages (from click->nltk) (0.4.6)\n"
     ]
    },
    {
     "name": "stderr",
     "output_type": "stream",
     "text": [
      "\n",
      "[notice] A new release of pip is available: 23.2.1 -> 23.3.1\n",
      "[notice] To update, run: python.exe -m pip install --upgrade pip\n"
     ]
    }
   ],
   "source": [
    "!pip install nltk"
   ]
  },
  {
   "cell_type": "code",
   "execution_count": 2,
   "id": "f48c5946",
   "metadata": {},
   "outputs": [
    {
     "name": "stdout",
     "output_type": "stream",
     "text": [
      "Requirement already satisfied: pip in c:\\users\\home\\anaconda3\\lib\\site-packages (23.2.1)\n",
      "Collecting pip\n",
      "  Obtaining dependency information for pip from https://files.pythonhosted.org/packages/47/6a/453160888fab7c6a432a6e25f8afe6256d0d9f2cbd25971021da6491d899/pip-23.3.1-py3-none-any.whl.metadata\n",
      "  Downloading pip-23.3.1-py3-none-any.whl.metadata (3.5 kB)\n",
      "Downloading pip-23.3.1-py3-none-any.whl (2.1 MB)\n",
      "   ---------------------------------------- 2.1/2.1 MB 3.1 MB/s eta 0:00:00\n",
      "Installing collected packages: pip\n",
      "  Attempting uninstall: pip\n",
      "    Found existing installation: pip 23.2.1\n",
      "    Uninstalling pip-23.2.1:\n",
      "      Successfully uninstalled pip-23.2.1\n",
      "Successfully installed pip-23.3.1\n"
     ]
    }
   ],
   "source": [
    "!python.exe -m pip install --upgrade pip"
   ]
  },
  {
   "cell_type": "code",
   "execution_count": 3,
   "id": "7fdf25b8",
   "metadata": {},
   "outputs": [],
   "source": [
    "import nltk\n"
   ]
  },
  {
   "cell_type": "code",
   "execution_count": 4,
   "id": "b433fc89",
   "metadata": {},
   "outputs": [
    {
     "name": "stderr",
     "output_type": "stream",
     "text": [
      "[nltk_data] Error loading punkt: <urlopen error [WinError 10054] An\n",
      "[nltk_data]     existing connection was forcibly closed by the remote\n",
      "[nltk_data]     host>\n"
     ]
    },
    {
     "data": {
      "text/plain": [
       "False"
      ]
     },
     "execution_count": 4,
     "metadata": {},
     "output_type": "execute_result"
    }
   ],
   "source": [
    "nltk.download(\"punkt\")"
   ]
  },
  {
   "cell_type": "code",
   "execution_count": 5,
   "id": "557a0436",
   "metadata": {},
   "outputs": [],
   "source": [
    "s='Mr.X wants to be a superhero. But, he fails to do. so.'"
   ]
  },
  {
   "cell_type": "code",
   "execution_count": 6,
   "id": "ec6aeb9b",
   "metadata": {},
   "outputs": [
    {
     "data": {
      "text/plain": [
       "['Mr.X wants to be a superhero.', 'But, he fails to do.', 'so.']"
      ]
     },
     "execution_count": 6,
     "metadata": {},
     "output_type": "execute_result"
    }
   ],
   "source": [
    "nltk.sent_tokenize(s)"
   ]
  },
  {
   "cell_type": "code",
   "execution_count": 7,
   "id": "1934f09a",
   "metadata": {},
   "outputs": [
    {
     "data": {
      "text/plain": [
       "['Mr.X',\n",
       " 'wants',\n",
       " 'to',\n",
       " 'be',\n",
       " 'a',\n",
       " 'superhero',\n",
       " '.',\n",
       " 'But',\n",
       " ',',\n",
       " 'he',\n",
       " 'fails',\n",
       " 'to',\n",
       " 'do',\n",
       " '.',\n",
       " 'so',\n",
       " '.']"
      ]
     },
     "execution_count": 7,
     "metadata": {},
     "output_type": "execute_result"
    }
   ],
   "source": [
    "nltk.word_tokenize(s)"
   ]
  },
  {
   "cell_type": "code",
   "execution_count": 8,
   "id": "cc0d4ad1",
   "metadata": {},
   "outputs": [],
   "source": [
    "data = \"\"\"\"\n",
    "\n",
    "India (Hindi: Bharat), officially the Republic of India, is a country in\n",
    "\n",
    "South Asia. It is the seventh-largest country by area, the second-most\n",
    "\n",
    "populous country, and the most populous democracy in the world. Bounded\n",
    "\n",
    "by the Indian Ocean on the south, the Arabian Sea on the southwest,\n",
    "\n",
    "and the Bay of Bengal on the southeast, it shares land borders with\n",
    "\n",
    "Pakistan to the west; China, Nepal, and Bhutan to the north; and Bangladesh and\n",
    "\n",
    "Myanmar to the east. In the Indian Ocean, India is in the vicinity of Sri Lanka\n",
    "\n",
    "and the Maldives; its Andaman and Nicobar Islands share a maritime border with Thailand and Indonesia.\n",
    "\"\"\""
   ]
  },
  {
   "cell_type": "code",
   "execution_count": 9,
   "id": "54a619ed",
   "metadata": {},
   "outputs": [],
   "source": [
    "word_token=nltk.word_tokenize(data)"
   ]
  },
  {
   "cell_type": "code",
   "execution_count": 10,
   "id": "054d1c16",
   "metadata": {},
   "outputs": [
    {
     "data": {
      "text/plain": [
       "['``',\n",
       " 'India',\n",
       " '(',\n",
       " 'Hindi',\n",
       " ':',\n",
       " 'Bharat',\n",
       " ')',\n",
       " ',',\n",
       " 'officially',\n",
       " 'the',\n",
       " 'Republic',\n",
       " 'of',\n",
       " 'India',\n",
       " ',',\n",
       " 'is',\n",
       " 'a',\n",
       " 'country',\n",
       " 'in',\n",
       " 'South',\n",
       " 'Asia',\n",
       " '.',\n",
       " 'It',\n",
       " 'is',\n",
       " 'the',\n",
       " 'seventh-largest',\n",
       " 'country',\n",
       " 'by',\n",
       " 'area',\n",
       " ',',\n",
       " 'the',\n",
       " 'second-most',\n",
       " 'populous',\n",
       " 'country',\n",
       " ',',\n",
       " 'and',\n",
       " 'the',\n",
       " 'most',\n",
       " 'populous',\n",
       " 'democracy',\n",
       " 'in',\n",
       " 'the',\n",
       " 'world',\n",
       " '.',\n",
       " 'Bounded',\n",
       " 'by',\n",
       " 'the',\n",
       " 'Indian',\n",
       " 'Ocean',\n",
       " 'on',\n",
       " 'the',\n",
       " 'south',\n",
       " ',',\n",
       " 'the',\n",
       " 'Arabian',\n",
       " 'Sea',\n",
       " 'on',\n",
       " 'the',\n",
       " 'southwest',\n",
       " ',',\n",
       " 'and',\n",
       " 'the',\n",
       " 'Bay',\n",
       " 'of',\n",
       " 'Bengal',\n",
       " 'on',\n",
       " 'the',\n",
       " 'southeast',\n",
       " ',',\n",
       " 'it',\n",
       " 'shares',\n",
       " 'land',\n",
       " 'borders',\n",
       " 'with',\n",
       " 'Pakistan',\n",
       " 'to',\n",
       " 'the',\n",
       " 'west',\n",
       " ';',\n",
       " 'China',\n",
       " ',',\n",
       " 'Nepal',\n",
       " ',',\n",
       " 'and',\n",
       " 'Bhutan',\n",
       " 'to',\n",
       " 'the',\n",
       " 'north',\n",
       " ';',\n",
       " 'and',\n",
       " 'Bangladesh',\n",
       " 'and',\n",
       " 'Myanmar',\n",
       " 'to',\n",
       " 'the',\n",
       " 'east',\n",
       " '.',\n",
       " 'In',\n",
       " 'the',\n",
       " 'Indian',\n",
       " 'Ocean',\n",
       " ',',\n",
       " 'India',\n",
       " 'is',\n",
       " 'in',\n",
       " 'the',\n",
       " 'vicinity',\n",
       " 'of',\n",
       " 'Sri',\n",
       " 'Lanka',\n",
       " 'and',\n",
       " 'the',\n",
       " 'Maldives',\n",
       " ';',\n",
       " 'its',\n",
       " 'Andaman',\n",
       " 'and',\n",
       " 'Nicobar',\n",
       " 'Islands',\n",
       " 'share',\n",
       " 'a',\n",
       " 'maritime',\n",
       " 'border',\n",
       " 'with',\n",
       " 'Thailand',\n",
       " 'and',\n",
       " 'Indonesia',\n",
       " '.']"
      ]
     },
     "execution_count": 10,
     "metadata": {},
     "output_type": "execute_result"
    }
   ],
   "source": [
    "word_token"
   ]
  },
  {
   "cell_type": "code",
   "execution_count": 11,
   "id": "432864f5",
   "metadata": {},
   "outputs": [
    {
     "name": "stderr",
     "output_type": "stream",
     "text": [
      "[nltk_data] Error loading stopwords: <urlopen error [WinError 10054]\n",
      "[nltk_data]     An existing connection was forcibly closed by the\n",
      "[nltk_data]     remote host>\n"
     ]
    },
    {
     "data": {
      "text/plain": [
       "False"
      ]
     },
     "execution_count": 11,
     "metadata": {},
     "output_type": "execute_result"
    }
   ],
   "source": [
    "nltk.download('stopwords')"
   ]
  },
  {
   "cell_type": "code",
   "execution_count": 12,
   "id": "97e81411",
   "metadata": {},
   "outputs": [],
   "source": [
    "from nltk.corpus import stopwords"
   ]
  },
  {
   "cell_type": "code",
   "execution_count": 13,
   "id": "bc2cf294",
   "metadata": {},
   "outputs": [],
   "source": [
    "stop_words=stopwords.words('english')"
   ]
  },
  {
   "cell_type": "code",
   "execution_count": 14,
   "id": "9920dba2",
   "metadata": {},
   "outputs": [
    {
     "name": "stdout",
     "output_type": "stream",
     "text": [
      "['i', 'me', 'my', 'myself', 'we', 'our', 'ours', 'ourselves', 'you', \"you're\", \"you've\", \"you'll\", \"you'd\", 'your', 'yours', 'yourself', 'yourselves', 'he', 'him', 'his', 'himself', 'she', \"she's\", 'her', 'hers', 'herself', 'it', \"it's\", 'its', 'itself', 'they', 'them', 'their', 'theirs', 'themselves', 'what', 'which', 'who', 'whom', 'this', 'that', \"that'll\", 'these', 'those', 'am', 'is', 'are', 'was', 'were', 'be', 'been', 'being', 'have', 'has', 'had', 'having', 'do', 'does', 'did', 'doing', 'a', 'an', 'the', 'and', 'but', 'if', 'or', 'because', 'as', 'until', 'while', 'of', 'at', 'by', 'for', 'with', 'about', 'against', 'between', 'into', 'through', 'during', 'before', 'after', 'above', 'below', 'to', 'from', 'up', 'down', 'in', 'out', 'on', 'off', 'over', 'under', 'again', 'further', 'then', 'once', 'here', 'there', 'when', 'where', 'why', 'how', 'all', 'any', 'both', 'each', 'few', 'more', 'most', 'other', 'some', 'such', 'no', 'nor', 'not', 'only', 'own', 'same', 'so', 'than', 'too', 'very', 's', 't', 'can', 'will', 'just', 'don', \"don't\", 'should', \"should've\", 'now', 'd', 'll', 'm', 'o', 're', 've', 'y', 'ain', 'aren', \"aren't\", 'couldn', \"couldn't\", 'didn', \"didn't\", 'doesn', \"doesn't\", 'hadn', \"hadn't\", 'hasn', \"hasn't\", 'haven', \"haven't\", 'isn', \"isn't\", 'ma', 'mightn', \"mightn't\", 'mustn', \"mustn't\", 'needn', \"needn't\", 'shan', \"shan't\", 'shouldn', \"shouldn't\", 'wasn', \"wasn't\", 'weren', \"weren't\", 'won', \"won't\", 'wouldn', \"wouldn't\"]\n"
     ]
    }
   ],
   "source": [
    "print(stop_words)"
   ]
  },
  {
   "cell_type": "code",
   "execution_count": 15,
   "id": "fb6e62b5",
   "metadata": {},
   "outputs": [],
   "source": [
    "def clean_data(word_tokens,stop_words):\n",
    "    w_t=[]\n",
    "    word_tokens=[i.lower() for i in word_tokens]\n",
    "    for x in word_tokens:\n",
    "        if x not in stop_words:\n",
    "            w_t.append(x)\n",
    "    return w_t\n",
    "    "
   ]
  },
  {
   "cell_type": "code",
   "execution_count": 16,
   "id": "df18d870",
   "metadata": {},
   "outputs": [
    {
     "name": "stdout",
     "output_type": "stream",
     "text": [
      "127\n"
     ]
    }
   ],
   "source": [
    "print(len(word_token))"
   ]
  },
  {
   "cell_type": "code",
   "execution_count": 17,
   "id": "852220a5",
   "metadata": {},
   "outputs": [],
   "source": [
    "new_tokens=clean_data(word_token,stop_words)"
   ]
  },
  {
   "cell_type": "code",
   "execution_count": 18,
   "id": "70be4390",
   "metadata": {},
   "outputs": [
    {
     "name": "stdout",
     "output_type": "stream",
     "text": [
      "['``', 'india', '(', 'hindi', ':', 'bharat', ')', ',', 'officially', 'republic', 'india', ',', 'country', 'south', 'asia', '.', 'seventh-largest', 'country', 'area', ',', 'second-most', 'populous', 'country', ',', 'populous', 'democracy', 'world', '.', 'bounded', 'indian', 'ocean', 'south', ',', 'arabian', 'sea', 'southwest', ',', 'bay', 'bengal', 'southeast', ',', 'shares', 'land', 'borders', 'pakistan', 'west', ';', 'china', ',', 'nepal', ',', 'bhutan', 'north', ';', 'bangladesh', 'myanmar', 'east', '.', 'indian', 'ocean', ',', 'india', 'vicinity', 'sri', 'lanka', 'maldives', ';', 'andaman', 'nicobar', 'islands', 'share', 'maritime', 'border', 'thailand', 'indonesia', '.']\n"
     ]
    }
   ],
   "source": [
    "print(new_tokens)"
   ]
  },
  {
   "cell_type": "code",
   "execution_count": 19,
   "id": "06291140",
   "metadata": {},
   "outputs": [
    {
     "name": "stdout",
     "output_type": "stream",
     "text": [
      "76\n"
     ]
    }
   ],
   "source": [
    "print(len(new_tokens))"
   ]
  },
  {
   "cell_type": "code",
   "execution_count": 20,
   "id": "3101844b",
   "metadata": {},
   "outputs": [],
   "source": [
    "import string"
   ]
  },
  {
   "cell_type": "code",
   "execution_count": 21,
   "id": "83cfcd9b",
   "metadata": {},
   "outputs": [],
   "source": [
    "puct=string.punctuation"
   ]
  },
  {
   "cell_type": "code",
   "execution_count": 22,
   "id": "df737cac",
   "metadata": {},
   "outputs": [
    {
     "name": "stdout",
     "output_type": "stream",
     "text": [
      "<class 'str'>\n"
     ]
    }
   ],
   "source": [
    "print(type(puct))"
   ]
  },
  {
   "cell_type": "code",
   "execution_count": 23,
   "id": "610673e1",
   "metadata": {},
   "outputs": [
    {
     "data": {
      "text/plain": [
       "'!\"#$%&\\'()*+,-./:;<=>?@[\\\\]^_`{|}~'"
      ]
     },
     "execution_count": 23,
     "metadata": {},
     "output_type": "execute_result"
    }
   ],
   "source": [
    "puct"
   ]
  },
  {
   "cell_type": "code",
   "execution_count": 24,
   "id": "ea4202b4",
   "metadata": {},
   "outputs": [],
   "source": [
    "def clean_data2(new_tokens,puct):\n",
    "    w_t1=[]\n",
    "    for x in new_tokens:\n",
    "        if x not in puct:\n",
    "            w_t1.append(x)\n",
    "    return w_t1"
   ]
  },
  {
   "cell_type": "code",
   "execution_count": 25,
   "id": "1a2ea3f8",
   "metadata": {},
   "outputs": [],
   "source": [
    "new_tokens=clean_data2(new_tokens,puct)"
   ]
  },
  {
   "cell_type": "code",
   "execution_count": 26,
   "id": "2e537a87",
   "metadata": {},
   "outputs": [
    {
     "name": "stdout",
     "output_type": "stream",
     "text": [
      "['``', 'india', 'hindi', 'bharat', 'officially', 'republic', 'india', 'country', 'south', 'asia', 'seventh-largest', 'country', 'area', 'second-most', 'populous', 'country', 'populous', 'democracy', 'world', 'bounded', 'indian', 'ocean', 'south', 'arabian', 'sea', 'southwest', 'bay', 'bengal', 'southeast', 'shares', 'land', 'borders', 'pakistan', 'west', 'china', 'nepal', 'bhutan', 'north', 'bangladesh', 'myanmar', 'east', 'indian', 'ocean', 'india', 'vicinity', 'sri', 'lanka', 'maldives', 'andaman', 'nicobar', 'islands', 'share', 'maritime', 'border', 'thailand', 'indonesia']\n"
     ]
    }
   ],
   "source": [
    "print(new_tokens)"
   ]
  },
  {
   "cell_type": "code",
   "execution_count": 27,
   "id": "0ae7209f",
   "metadata": {},
   "outputs": [],
   "source": [
    "from nltk.stem import PorterStemmer, SnowballStemmer, LancasterStemmer"
   ]
  },
  {
   "cell_type": "code",
   "execution_count": 28,
   "id": "9bb9ed71",
   "metadata": {},
   "outputs": [],
   "source": [
    "ps=PorterStemmer()\n",
    "ss=SnowballStemmer('english')\n",
    "ls=LancasterStemmer()"
   ]
  },
  {
   "cell_type": "code",
   "execution_count": 29,
   "id": "2d4633f5",
   "metadata": {},
   "outputs": [
    {
     "data": {
      "text/plain": [
       "'offici'"
      ]
     },
     "execution_count": 29,
     "metadata": {},
     "output_type": "execute_result"
    }
   ],
   "source": [
    "ps.stem('officially')"
   ]
  },
  {
   "cell_type": "code",
   "execution_count": 30,
   "id": "c011a401",
   "metadata": {},
   "outputs": [
    {
     "data": {
      "text/plain": [
       "'offici'"
      ]
     },
     "execution_count": 30,
     "metadata": {},
     "output_type": "execute_result"
    }
   ],
   "source": [
    "ss.stem('officially')"
   ]
  },
  {
   "cell_type": "code",
   "execution_count": 31,
   "id": "74170916",
   "metadata": {},
   "outputs": [
    {
     "data": {
      "text/plain": [
       "'off'"
      ]
     },
     "execution_count": 31,
     "metadata": {},
     "output_type": "execute_result"
    }
   ],
   "source": [
    "ls.stem('officially')"
   ]
  },
  {
   "cell_type": "code",
   "execution_count": 32,
   "id": "823d3476",
   "metadata": {},
   "outputs": [
    {
     "name": "stdout",
     "output_type": "stream",
     "text": [
      "haunt\n",
      "haunt\n",
      "haunt\n"
     ]
    }
   ],
   "source": [
    "print(ps.stem('haunted'))\n",
    "print(ss.stem('haunted'))\n",
    "print(ls.stem('haunted'))"
   ]
  },
  {
   "cell_type": "code",
   "execution_count": 33,
   "id": "6ad6911c",
   "metadata": {},
   "outputs": [
    {
     "data": {
      "text/plain": [
       "'off'"
      ]
     },
     "execution_count": 33,
     "metadata": {},
     "output_type": "execute_result"
    }
   ],
   "source": [
    "ls.stem(['officially','buses'][0])"
   ]
  },
  {
   "cell_type": "code",
   "execution_count": 34,
   "id": "68e46500",
   "metadata": {},
   "outputs": [
    {
     "name": "stderr",
     "output_type": "stream",
     "text": [
      "[nltk_data] Error loading averaged_perceptron_tagger: <urlopen error\n",
      "[nltk_data]     [WinError 10054] An existing connection was forcibly\n",
      "[nltk_data]     closed by the remote host>\n"
     ]
    },
    {
     "data": {
      "text/plain": [
       "False"
      ]
     },
     "execution_count": 34,
     "metadata": {},
     "output_type": "execute_result"
    }
   ],
   "source": [
    "nltk.download('averaged_perceptron_tagger')"
   ]
  },
  {
   "cell_type": "code",
   "execution_count": 35,
   "id": "161905f5",
   "metadata": {},
   "outputs": [],
   "source": [
    "pos=nltk.pos_tag(nltk.word_tokenize('This is kowshick, I have issue with my acc no. 1582222 where i cant use my credit card, can u help me praveen'))"
   ]
  },
  {
   "cell_type": "code",
   "execution_count": 36,
   "id": "47ebc1bb",
   "metadata": {},
   "outputs": [
    {
     "name": "stdout",
     "output_type": "stream",
     "text": [
      "[('This', 'DT'), ('is', 'VBZ'), ('kowshick', 'JJ'), (',', ','), ('I', 'PRP'), ('have', 'VBP'), ('issue', 'NN'), ('with', 'IN'), ('my', 'PRP$'), ('acc', 'NN'), ('no', 'DT'), ('.', '.'), ('1582222', 'CD'), ('where', 'WRB'), ('i', 'NN'), ('cant', 'NN'), ('use', 'IN'), ('my', 'PRP$'), ('credit', 'NN'), ('card', 'NN'), (',', ','), ('can', 'MD'), ('u', 'VB'), ('help', 'VB'), ('me', 'PRP'), ('praveen', 'VB')]\n"
     ]
    }
   ],
   "source": [
    "print(pos)"
   ]
  },
  {
   "cell_type": "code",
   "execution_count": 37,
   "id": "56725015",
   "metadata": {},
   "outputs": [
    {
     "name": "stdout",
     "output_type": "stream",
     "text": [
      "('kowshick', 'JJ')\n"
     ]
    }
   ],
   "source": [
    "for x in pos:\n",
    "    if x[1]=='JJ':\n",
    "        print(x)"
   ]
  },
  {
   "cell_type": "code",
   "execution_count": 38,
   "id": "2aff063e",
   "metadata": {},
   "outputs": [],
   "source": [
    "w='This is kowshick, I have issue with my acc no. 1582222 where i cant use my credit card, can u help me praveen'"
   ]
  },
  {
   "cell_type": "code",
   "execution_count": 39,
   "id": "b41748cd",
   "metadata": {},
   "outputs": [],
   "source": [
    "s=nltk.word_tokenize(w)"
   ]
  },
  {
   "cell_type": "code",
   "execution_count": 40,
   "id": "c2a4608c",
   "metadata": {},
   "outputs": [
    {
     "name": "stdout",
     "output_type": "stream",
     "text": [
      "['This', 'is', 'kowshick', ',', 'I', 'have', 'issue', 'with', 'my', 'acc', 'no', '.', '1582222', 'where', 'i', 'cant', 'use', 'my', 'credit', 'card', ',', 'can', 'u', 'help', 'me', 'praveen']\n"
     ]
    }
   ],
   "source": [
    "print(s)"
   ]
  },
  {
   "cell_type": "code",
   "execution_count": 41,
   "id": "a99368f1",
   "metadata": {},
   "outputs": [],
   "source": [
    "lst1=[]\n",
    "lst2=[]\n",
    "lst3=[]\n",
    "for x in s:\n",
    "    p=ps.stem(x)\n",
    "    lst1.append(p)\n",
    "    s=ss.stem(x)\n",
    "    lst2.append(s)\n",
    "    l=ls.stem(x)\n",
    "    lst3.append(l)"
   ]
  },
  {
   "cell_type": "code",
   "execution_count": 42,
   "id": "ea105b1d",
   "metadata": {},
   "outputs": [
    {
     "name": "stdout",
     "output_type": "stream",
     "text": [
      "thi is kowshick , i have issu with my acc no . 1582222 where i cant use my credit card , can u help me praveen\n"
     ]
    }
   ],
   "source": [
    "print(' '.join(lst1))"
   ]
  },
  {
   "cell_type": "code",
   "execution_count": 43,
   "id": "b36a798f",
   "metadata": {},
   "outputs": [
    {
     "name": "stdout",
     "output_type": "stream",
     "text": [
      "this is kowshick , i have issu with my acc no . 1582222 where i cant use my credit card , can u help me praveen\n"
     ]
    }
   ],
   "source": [
    "print(' '.join(lst2))"
   ]
  },
  {
   "cell_type": "code",
   "execution_count": 44,
   "id": "e4c2f24e",
   "metadata": {},
   "outputs": [
    {
     "name": "stdout",
     "output_type": "stream",
     "text": [
      "thi is kowshick , i hav issu with my acc no . 1582222 wher i cant us my credit card , can u help me praveen\n"
     ]
    }
   ],
   "source": [
    "print(' '.join(lst3))"
   ]
  },
  {
   "cell_type": "code",
   "execution_count": 45,
   "id": "fa206791",
   "metadata": {},
   "outputs": [
    {
     "name": "stderr",
     "output_type": "stream",
     "text": [
      "[nltk_data] Error loading wordnet: <urlopen error [WinError 10054] An\n",
      "[nltk_data]     existing connection was forcibly closed by the remote\n",
      "[nltk_data]     host>\n"
     ]
    },
    {
     "data": {
      "text/plain": [
       "False"
      ]
     },
     "execution_count": 45,
     "metadata": {},
     "output_type": "execute_result"
    }
   ],
   "source": [
    "nltk.download('wordnet')"
   ]
  },
  {
   "cell_type": "code",
   "execution_count": 46,
   "id": "3ece36a9",
   "metadata": {},
   "outputs": [],
   "source": [
    "from nltk.stem import WordNetLemmatizer"
   ]
  },
  {
   "cell_type": "code",
   "execution_count": 47,
   "id": "dc2706d9",
   "metadata": {},
   "outputs": [],
   "source": [
    "wnl=WordNetLemmatizer()"
   ]
  },
  {
   "cell_type": "code",
   "execution_count": 48,
   "id": "8e25fbb8",
   "metadata": {},
   "outputs": [
    {
     "name": "stdout",
     "output_type": "stream",
     "text": [
      "motivate\n"
     ]
    }
   ],
   "source": [
    "print(wnl.lemmatize(\"motivating\",'v'))"
   ]
  },
  {
   "cell_type": "code",
   "execution_count": 49,
   "id": "ed42fbcc",
   "metadata": {},
   "outputs": [
    {
     "name": "stderr",
     "output_type": "stream",
     "text": [
      "[nltk_data] Error loading omw-1.4: <urlopen error [WinError 10054] An\n",
      "[nltk_data]     existing connection was forcibly closed by the remote\n",
      "[nltk_data]     host>\n"
     ]
    },
    {
     "data": {
      "text/plain": [
       "False"
      ]
     },
     "execution_count": 49,
     "metadata": {},
     "output_type": "execute_result"
    }
   ],
   "source": [
    "nltk.download('omw-1.4')"
   ]
  },
  {
   "cell_type": "code",
   "execution_count": 50,
   "id": "c57bb2c9",
   "metadata": {},
   "outputs": [
    {
     "name": "stdout",
     "output_type": "stream",
     "text": [
      "finalise\n"
     ]
    }
   ],
   "source": [
    "print(wnl.lemmatize(\"finalising\",'v'))"
   ]
  },
  {
   "cell_type": "code",
   "execution_count": 51,
   "id": "2d0a66f4",
   "metadata": {},
   "outputs": [
    {
     "name": "stderr",
     "output_type": "stream",
     "text": [
      "[nltk_data] Error loading maxent_ne_chunker: <urlopen error [WinError\n",
      "[nltk_data]     10054] An existing connection was forcibly closed by\n",
      "[nltk_data]     the remote host>\n",
      "[nltk_data] Error loading words: <urlopen error [WinError 10054] An\n",
      "[nltk_data]     existing connection was forcibly closed by the remote\n",
      "[nltk_data]     host>\n"
     ]
    },
    {
     "data": {
      "text/plain": [
       "False"
      ]
     },
     "execution_count": 51,
     "metadata": {},
     "output_type": "execute_result"
    }
   ],
   "source": [
    "nltk.download('maxent_ne_chunker')\n",
    "nltk.download('words')"
   ]
  },
  {
   "cell_type": "code",
   "execution_count": 94,
   "id": "53415d97",
   "metadata": {},
   "outputs": [],
   "source": [
    "a='President Ramesh came to Google at 13-08-1996 to diccuss about Re. 1 Lakh loan'"
   ]
  },
  {
   "cell_type": "code",
   "execution_count": 95,
   "id": "c2fd4b53",
   "metadata": {},
   "outputs": [],
   "source": [
    "b=nltk.word_tokenize(a)"
   ]
  },
  {
   "cell_type": "code",
   "execution_count": 96,
   "id": "6c7f571e",
   "metadata": {},
   "outputs": [],
   "source": [
    "c=nltk.pos_tag(b)"
   ]
  },
  {
   "cell_type": "code",
   "execution_count": 97,
   "id": "b5f86226",
   "metadata": {},
   "outputs": [
    {
     "name": "stdout",
     "output_type": "stream",
     "text": [
      "[('President', 'NNP'), ('Ramesh', 'NNP'), ('came', 'VBD'), ('to', 'TO'), ('Google', 'NNP'), ('at', 'IN'), ('13-08-1996', 'JJ'), ('to', 'TO'), ('diccuss', 'VB'), ('about', 'IN'), ('Re', 'NNP'), ('.', '.'), ('1', 'CD'), ('Lakh', 'NNP'), ('loan', 'NN')]\n"
     ]
    }
   ],
   "source": [
    "print(c)"
   ]
  },
  {
   "cell_type": "code",
   "execution_count": 98,
   "id": "446f9969",
   "metadata": {},
   "outputs": [],
   "source": [
    "ner=nltk.ne_chunk(c)"
   ]
  },
  {
   "cell_type": "code",
   "execution_count": 99,
   "id": "6f2deabb",
   "metadata": {},
   "outputs": [
    {
     "name": "stdout",
     "output_type": "stream",
     "text": [
      "(S\n",
      "  President/NNP\n",
      "  (PERSON Ramesh/NNP)\n",
      "  came/VBD\n",
      "  to/TO\n",
      "  (PERSON Google/NNP)\n",
      "  at/IN\n",
      "  13-08-1996/JJ\n",
      "  to/TO\n",
      "  diccuss/VB\n",
      "  about/IN\n",
      "  Re/NNP\n",
      "  ./.\n",
      "  1/CD\n",
      "  Lakh/NNP\n",
      "  loan/NN)\n"
     ]
    }
   ],
   "source": [
    "print(ner)"
   ]
  },
  {
   "cell_type": "code",
   "execution_count": null,
   "id": "0485a86c",
   "metadata": {},
   "outputs": [],
   "source": []
  },
  {
   "cell_type": "code",
   "execution_count": null,
   "id": "73df2608",
   "metadata": {},
   "outputs": [],
   "source": []
  },
  {
   "cell_type": "code",
   "execution_count": null,
   "id": "fbb477fe",
   "metadata": {},
   "outputs": [],
   "source": []
  },
  {
   "cell_type": "code",
   "execution_count": null,
   "id": "5dfa4ff1",
   "metadata": {},
   "outputs": [],
   "source": []
  },
  {
   "cell_type": "code",
   "execution_count": null,
   "id": "d82d467b",
   "metadata": {},
   "outputs": [],
   "source": []
  }
 ],
 "metadata": {
  "kernelspec": {
   "display_name": "Python 3 (ipykernel)",
   "language": "python",
   "name": "python3"
  },
  "language_info": {
   "codemirror_mode": {
    "name": "ipython",
    "version": 3
   },
   "file_extension": ".py",
   "mimetype": "text/x-python",
   "name": "python",
   "nbconvert_exporter": "python",
   "pygments_lexer": "ipython3",
   "version": "3.9.12"
  }
 },
 "nbformat": 4,
 "nbformat_minor": 5
}
